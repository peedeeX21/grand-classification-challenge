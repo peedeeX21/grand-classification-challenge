{
 "cells": [
  {
   "cell_type": "markdown",
   "metadata": {},
   "source": [
    "# Grand Classification Challenge"
   ]
  },
  {
   "cell_type": "code",
   "execution_count": 2,
   "metadata": {
    "collapsed": false
   },
   "outputs": [
    {
     "name": "stdout",
     "output_type": "stream",
     "text": [
      "Import theano\n"
     ]
    }
   ],
   "source": [
    "from sidekit.libsvm import svmutil"
   ]
  },
  {
   "cell_type": "markdown",
   "metadata": {},
   "source": [
    "## Load and Inspect the Data Set"
   ]
  },
  {
   "cell_type": "code",
   "execution_count": null,
   "metadata": {
    "collapsed": true
   },
   "outputs": [],
   "source": [
    "def svm_read_problem(data_file_name):\n",
    "    \"\"\"\n",
    "    svm_read_problem(data_file_name) -> [y, x]\n",
    "\n",
    "    Read LIBSVM-format data from data_file_name and return labels y\n",
    "    and data instances x.\n",
    "    :param data_file_name: name of the file to load from\n",
    "    \"\"\"\n",
    "    prob_y = []\n",
    "    prob_x = []\n",
    "    for line in open(data_file_name):\n",
    "        line = line.split(None, 1)\n",
    "        # In case an instance with all zero features\n",
    "        if len(line) == 1:\n",
    "            line += ['']\n",
    "        label, features = line\n",
    "        xi = {}\n",
    "        for e in features.split():\n",
    "            ind, val = e.split(\":\")\n",
    "            xi[int(ind)] = float(val)\n",
    "        prob_y += [float(label)]\n",
    "        prob_x += [xi]\n",
    "    return prob_y, prob_x"
   ]
  },
  {
   "cell_type": "code",
   "execution_count": 3,
   "metadata": {
    "collapsed": false,
    "scrolled": false
   },
   "outputs": [],
   "source": [
    "y_train, X_train = svmutil.svm_read_problem('../data/digits/digit_test')\n",
    "y_test, X_test = svmutil.svm_read_problem('../data/digits/digit_train')\n",
    "\n",
    "for(xi in X_train):\n",
    "    xi"
   ]
  },
  {
   "cell_type": "code",
   "execution_count": 10,
   "metadata": {
    "collapsed": false
   },
   "outputs": [
    {
     "name": "stdout",
     "output_type": "stream",
     "text": [
      "<class 'dict_keys'>\n"
     ]
    }
   ],
   "source": [
    "print(type(X_test[0].keys()))"
   ]
  }
 ],
 "metadata": {
  "kernelspec": {
   "display_name": "Python 3",
   "language": "python",
   "name": "python3"
  },
  "language_info": {
   "codemirror_mode": {
    "name": "ipython",
    "version": 3
   },
   "file_extension": ".py",
   "mimetype": "text/x-python",
   "name": "python",
   "nbconvert_exporter": "python",
   "pygments_lexer": "ipython3",
   "version": "3.5.2"
  }
 },
 "nbformat": 4,
 "nbformat_minor": 2
}

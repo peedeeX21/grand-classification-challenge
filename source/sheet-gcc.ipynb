{
 "cells": [
  {
   "cell_type": "markdown",
   "metadata": {},
   "source": [
    "# Grand Classification Challenge\n",
    "\n",
    "The file digits.zip provided contains training and test images of handwritten digits. Each row describes one of the 28x28 pixel sample-images (see a few examples below). The dataset is split in two parts, 500 examples in the training set and 500 examples in the test set. For the training set, the first number represents the target class (i.e. 0-9). For the testset, these assignments are random and can be ignored. The remaining numbers define the image in a sparse representation, i.e., by giving pairs of PixelID:GrayValue where black pixels (GrayValue=0) are not explicitly listed."
   ]
  },
  {
   "cell_type": "code",
   "execution_count": null,
   "metadata": {
    "collapsed": false
   },
   "outputs": [],
   "source": [
    "# load the modules\n",
    "import numpy as np\n",
    "from sidekit.libsvm import svmutil\n",
    "from matplotlib import pyplot as plt\n",
    "%matplotlib inline\n",
    "\n",
    "from scipy.ndimage import interpolation\n",
    "\n",
    "from sklearn.decomposition import PCA\n",
    "from sklearn.model_selection import KFold\n",
    "from sklearn.neighbors import KNeighborsClassifier\n",
    "from sklearn.ensemble import RandomForestClassifier\n",
    "from sklearn.model_selection import GridSearchCV"
   ]
  },
  {
   "cell_type": "markdown",
   "metadata": {},
   "source": [
    "## Load and Inspect the Data Set"
   ]
  },
  {
   "cell_type": "markdown",
   "metadata": {},
   "source": [
    "Load the dataset using `libsvm` and convert the sparse feature vectors to ndarray also filling the `0` values for the black values."
   ]
  },
  {
   "cell_type": "code",
   "execution_count": null,
   "metadata": {
    "collapsed": true
   },
   "outputs": [],
   "source": [
    "def convert_to_ndarray(X_in, n_dim=28*28):\n",
    "    '''\n",
    "    Synopsis:\n",
    "        X = convert_to_ndarray(X_raw)\n",
    "    Arguments:\n",
    "        X_raw:   list o tuples (pixelID:GreyValue) in a dict of samples \n",
    "    Output:\n",
    "        X:       2D array of non-sparese features (samples x features)\n",
    "    '''\n",
    "    X_out = np.zeros((len(X_in), n_dim))\n",
    "    for i, xi in enumerate(X_in):\n",
    "        key_list = list(X_in[i].keys())\n",
    "        value_list = list(X_in[i].values())\n",
    "        X_out[i,key_list] = value_list\n",
    "    return X_out\n",
    "\n",
    "def invert_pixels(X_in):\n",
    "    '''\n",
    "    Invert the colors as the white values should be 255 not 0.\n",
    "    \n",
    "    Synopsis:\n",
    "        X = invert_pixels(X_in)\n",
    "    Arguments:\n",
    "        X_in:   2D array samples (samples x features) \n",
    "    Output:\n",
    "        X:      2D array of non-sparese features (samples x features)\n",
    "    '''\n",
    "    X_out = (np.ones(X.shape) * 255) - X\n",
    "    return X_out"
   ]
  },
  {
   "cell_type": "code",
   "execution_count": null,
   "metadata": {
    "collapsed": false,
    "scrolled": false
   },
   "outputs": [],
   "source": [
    "y_raw, X_raw = svmutil.svm_read_problem('../data/digits/digit_train')\n",
    "_, X_validation_raw = svmutil.svm_read_problem('../data/digits/digit_test')\n",
    "\n",
    "X = convert_to_ndarray(X_raw)\n",
    "X = invert_pixels(X)\n",
    "y = np.asarray(y_raw).astype(int)\n",
    "X_validation = convert_to_ndarray(X_validation_raw)\n",
    "X_validation = invert_pixels(X_validation)"
   ]
  },
  {
   "cell_type": "markdown",
   "metadata": {},
   "source": [
    "Visualize the 12 first trainings images alongside their labels. Its a good first impression how the data look like."
   ]
  },
  {
   "cell_type": "code",
   "execution_count": null,
   "metadata": {
    "collapsed": false
   },
   "outputs": [],
   "source": [
    "fig = plt.figure(1, figsize=(6*2, 2*2))\n",
    "for i in range(12):\n",
    "    ax = fig.add_subplot(2,6,i+1)\n",
    "    ax.imshow(X[i,:].reshape(28, 28), cmap=plt.cm.gray, interpolation = \"none\")\n",
    "    ax.set_title('label: {:d}'.format(y[i]))\n",
    "    ax.set_xticklabels('')\n",
    "    ax.set_yticklabels('')\n",
    "plt.show()"
   ]
  },
  {
   "cell_type": "markdown",
   "metadata": {},
   "source": [
    "## Expand the dataset"
   ]
  },
  {
   "cell_type": "code",
   "execution_count": null,
   "metadata": {
    "collapsed": false
   },
   "outputs": [],
   "source": [
    "def rotate_digits(X_in, angle):\n",
    "    X_out = np.empty(X_in.shape)\n",
    "    for i, x_i in enumerate(X_in):\n",
    "        x_i = x_i.reshape(28, 28)\n",
    "        x_i_rot = interpolation.rotate(x_i, angle=angle, cval=256)\n",
    "        start_idx = int((x_i_rot.shape[0]-28)/2)\n",
    "        end_idx = start_idx + 28\n",
    "        x_i_rot = x_i_rot[start_idx:end_idx,start_idx:end_idx]\n",
    "        x_i_rot[x_i_rot > 250] = 255\n",
    "        x_i_rot[x_i_rot < 5] = 0\n",
    "        X_out[i, :] = x_i_rot.reshape(1,28*28)\n",
    "    return X_out"
   ]
  },
  {
   "cell_type": "code",
   "execution_count": null,
   "metadata": {
    "collapsed": false
   },
   "outputs": [],
   "source": [
    "# shitty shifting in one direction\n",
    "def shift_pixels(X_in,pixels):\n",
    "    pixels = abs(pixels)\n",
    "    X_out = np.empty(X.shape)\n",
    "    print (X.shape)\n",
    "    for x in range(X_out.shape[0]): \n",
    "        for y in range(X_out.shape[1]-pixels):\n",
    "            X_out[x,y] = X_in[x,y+pixels]\n",
    "            \n",
    "    return X_out"
   ]
  },
  {
   "cell_type": "code",
   "execution_count": null,
   "metadata": {
    "collapsed": false
   },
   "outputs": [],
   "source": [
    "# expand dataset\n",
    "X_exp_rot = np.vstack((rotate_digits(X, 5) ,X))\n",
    "y_exp = y.repeat(2)\n",
    "X_exp_shift = np.vstack((shift_pixels(X, 5) ,X))\n",
    "\n",
    "# make datasets for plotting\n",
    "X_test1 = shift_pixels(X,5)\n",
    "X_test2 = rotate_digits(X,-15)\n",
    "y_test = y"
   ]
  },
  {
   "cell_type": "code",
   "execution_count": null,
   "metadata": {
    "collapsed": false
   },
   "outputs": [],
   "source": [
    "# plot our datasets to check if everything works\n",
    "fig = plt.figure(1, figsize=(6*2, 2*2))\n",
    "print (\"shifted\")\n",
    "for i in range(12):\n",
    "    ax = fig.add_subplot(2,6,i+1)\n",
    "    ax.imshow(X_test1[i,:].reshape(28, 28), cmap=plt.cm.gray, interpolation = \"none\")\n",
    "    ax.set_title('label: {:d}'.format(y[i]))\n",
    "    ax.set_xticklabels('')\n",
    "    ax.set_yticklabels('')\n",
    "plt.show()\n",
    "\n",
    "fig = plt.figure(1, figsize=(6*2, 2*2))\n",
    "print (\"rotated\")\n",
    "for i in range(12):\n",
    "    ax = fig.add_subplot(2,6,i+1)\n",
    "    ax.imshow(X_test2[i,:].reshape(28, 28), cmap=plt.cm.gray, interpolation = \"none\")\n",
    "    ax.set_title('label: {:d}'.format(y[i]))\n",
    "    ax.set_xticklabels('')\n",
    "    ax.set_yticklabels('')\n",
    "plt.show()\n",
    "\n",
    "print (\"original\")\n",
    "fig = plt.figure(1, figsize=(6*2, 2*2))\n",
    "for i in range(12):\n",
    "    ax = fig.add_subplot(2,6,i+1)\n",
    "    ax.imshow(X[i,:].reshape(28, 28), cmap=plt.cm.gray, interpolation = \"none\")\n",
    "    ax.set_title('label: {:d}'.format(y[i]))\n",
    "    ax.set_xticklabels('')\n",
    "    ax.set_yticklabels('')\n",
    "plt.show()"
   ]
  },
  {
   "cell_type": "markdown",
   "metadata": {},
   "source": [
    "## More investigation on the Dataset"
   ]
  },
  {
   "cell_type": "markdown",
   "metadata": {},
   "source": [
    "### The principal components spectrum\n",
    "\n",
    "tbd"
   ]
  },
  {
   "cell_type": "code",
   "execution_count": null,
   "metadata": {
    "collapsed": false
   },
   "outputs": [],
   "source": [
    "pca = PCA()\n",
    "pca.fit(X)\n",
    "\n",
    "plt.figure(figsize=(7, 6))\n",
    "plt.plot(pca.explained_variance_)\n",
    "plt.xlabel('number pc')\n",
    "plt.ylabel('explained variance')\n",
    "plt.show()"
   ]
  },
  {
   "cell_type": "markdown",
   "metadata": {},
   "source": [
    "### Visualize in 2D\n",
    "Using PCA to determine the 2 principal components and embedd the trainings data in the reduced 2-dimensional space. A very blurry clustering can already be seen. This is an indication for the separability of the digit classes."
   ]
  },
  {
   "cell_type": "code",
   "execution_count": null,
   "metadata": {
    "collapsed": false,
    "scrolled": false
   },
   "outputs": [],
   "source": [
    "pca = PCA(n_components=2)\n",
    "pca.fit(X_exp)\n",
    "X_embedded = pca.transform(X_exp_rot)\n",
    "\n",
    "pca2 = PCA(n_components=2)\n",
    "pca2.fit(X)\n",
    "X_embedded2 = pca.transform(X_exp_shift)\n",
    "\n",
    "pca3 = PCA(n_components=2)\n",
    "pca3.fit(X)\n",
    "X_embedded3 = pca.transform(X)\n",
    "\n",
    "n = 3\n",
    "\n",
    "plt.figure(figsize=(18, 15))\n",
    "plt.subplot(221)\n",
    "for d in range(n):\n",
    "    plt.scatter(X_embedded[y_exp==d,0], X_embedded[y_exp==d,1], s=20, label=d)\n",
    "plt.clim(0,9)\n",
    "plt.title(\"test set with reduced dimesions and rotated dataset\")\n",
    "plt.xlabel(\"PC 1\")\n",
    "plt.ylabel(\"PC 2\")\n",
    "plt.legend()\n",
    "\n",
    "plt.subplot(222)\n",
    "for d in range(n):\n",
    "    plt.scatter(X_embedded2[y==d,0], X_embedded2[y==d,1], s=20, label=d)\n",
    "plt.clim(0,9)\n",
    "plt.title(\"test set with reduced dimesions and shifted dataset\")\n",
    "plt.xlabel(\"PC 1\")\n",
    "plt.ylabel(\"PC 2\")\n",
    "plt.legend()\n",
    "\n",
    "\n",
    "plt.subplot(223)\n",
    "for d in range(n):\n",
    "    plt.scatter(X_embedded3[y==d,0], X_embedded3[y==d,1], s=20, label=d)\n",
    "plt.clim(0,9)\n",
    "plt.title(\"test set with reduced dimesions and original dataset\")\n",
    "plt.xlabel(\"PC 1\")\n",
    "plt.ylabel(\"PC 2\")\n",
    "plt.legend()\n",
    "\n",
    "plt.show()"
   ]
  },
  {
   "cell_type": "markdown",
   "metadata": {},
   "source": [
    "# Classification"
   ]
  },
  {
   "cell_type": "markdown",
   "metadata": {},
   "source": [
    "Take a classification algorithm of your choice (e.g. MLPs, C-SVMs, KNN) and use the training data to find the (hyper) parameters that will allow you to optimally predict new example digits."
   ]
  },
  {
   "cell_type": "code",
   "execution_count": null,
   "metadata": {
    "collapsed": true
   },
   "outputs": [],
   "source": [
    "# helper functions\n",
    "def crossvalidation(clf, X, y, n_folds=8):\n",
    "    score_array = np.empty((n_folds, 1))\n",
    "    kf = KFold(n_splits=n_folds)\n",
    "    for ff, (train_idx, test_idx) in enumerate(kf.split(X)):\n",
    "        X_train, X_test, y_train, y_test = X[train_idx], X[test_idx], y[train_idx], y[test_idx]\n",
    "        # fit the model\n",
    "        clf.fit(X_train, y_train)\n",
    "        # predict and meassure the error\n",
    "        score_array[ff] = clf.score(X_test, y_test)\n",
    "\n",
    "    return np.mean(score_array)\n",
    "\n",
    "def plot_two_params_score(score_array, x, y, xlabel, ylabel, classifier_name):\n",
    "    plt.imshow(score_array.T, interpolation='none')\n",
    "    plt.xticks(np.arange(x.shape[0]), x, rotation='vertical')\n",
    "    plt.yticks(np.arange(y.shape[0]), y)\n",
    "    plt.xlabel(xlabel)\n",
    "    plt.ylabel(ylabel)\n",
    "    plt.title('Score of {} [best={:4f}]'.format(classifier_name, score_array.max()))\n",
    "    plt.colorbar()"
   ]
  },
  {
   "cell_type": "markdown",
   "metadata": {},
   "source": [
    "## Classification with KNN"
   ]
  },
  {
   "cell_type": "markdown",
   "metadata": {},
   "source": [
    "tdb"
   ]
  },
  {
   "cell_type": "code",
   "execution_count": null,
   "metadata": {
    "collapsed": false
   },
   "outputs": [],
   "source": [
    "n_pc_array = np.array([1,2,3,4,5,10,20,50,100,200,500])\n",
    "n_neighbors_array = np.arange(2, 12, 1)\n",
    "score_array = np.zeros((n_pc_array.shape[0], n_neighbors_array.shape[0]))\n",
    "\n",
    "for i, n_pc in enumerate(n_pc_array):\n",
    "    for j, n_neighbors in enumerate(n_neighbors_array):\n",
    "        pca = PCA(n_components=n_pc)\n",
    "        pca.fit(X_exp_shift)\n",
    "        X_embedded = pca.transform(X_exp_shift)\n",
    "        knn = KNeighborsClassifier(n_neighbors=n_neighbors)\n",
    "        score_array[i,j] = crossvalidation(knn, X_embedded, y_exp)"
   ]
  },
  {
   "cell_type": "code",
   "execution_count": null,
   "metadata": {
    "collapsed": false
   },
   "outputs": [],
   "source": [
    "fig = plt.figure(1)   \n",
    "fig.set_size_inches((16, 6))\n",
    "plot_two_params_score(score_array, n_pc_array, n_neighbors_array, 'number pc', 'k', 'KNN')\n",
    "plt.show()"
   ]
  },
  {
   "cell_type": "markdown",
   "metadata": {},
   "source": [
    "## Classification with RandomForest"
   ]
  },
  {
   "cell_type": "markdown",
   "metadata": {},
   "source": [
    "tbd"
   ]
  },
  {
   "cell_type": "code",
   "execution_count": null,
   "metadata": {
    "collapsed": false
   },
   "outputs": [],
   "source": [
    "n_estimators_array = np.array([10,50,100,200,500,1000])\n",
    "min_samples_leaf_array = np.arange(2, 5, 1)\n",
    "score_array = np.zeros((n_estimators_array.shape[0], min_samples_leaf_array.shape[0]))\n",
    "tuned_parameters = [{\n",
    "    'n_estimators': n_estimators_array, \n",
    "    'min_samples_leaf': min_samples_leaf_array\n",
    "}]\n",
    "rf = RandomForestClassifier(criterion=\"gini\")\n",
    "clf = GridSearchCV(rf, tuned_parameters, cv=8)\n",
    "clf.fit(X_exp_shift, y_exp)\n",
    "score_array = np.asarray(clf.cv_results_['mean_test_score']) \\\n",
    "    .reshape(n_estimators_array.shape[0], min_samples_leaf_array.shape[0])"
   ]
  },
  {
   "cell_type": "code",
   "execution_count": null,
   "metadata": {
    "collapsed": false
   },
   "outputs": [],
   "source": [
    "fig = plt.figure(1)   \n",
    "fig.set_size_inches((5, 6))\n",
    "plot_two_params_score(score_array, n_estimators_array, min_samples_leaf_array, \n",
    "                      'n estimators', 'min samples leaf', 'Random Forest')\n",
    "plt.show()"
   ]
  }
 ],
 "metadata": {
  "kernelspec": {
   "display_name": "Python 3",
   "language": "python",
   "name": "python3"
  },
  "language_info": {
   "codemirror_mode": {
    "name": "ipython",
    "version": 3
   },
   "file_extension": ".py",
   "mimetype": "text/x-python",
   "name": "python",
   "nbconvert_exporter": "python",
   "pygments_lexer": "ipython3",
   "version": "3.6.0"
  }
 },
 "nbformat": 4,
 "nbformat_minor": 2
}
